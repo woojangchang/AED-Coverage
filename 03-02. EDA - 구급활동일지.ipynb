{
 "cells": [
  {
   "cell_type": "markdown",
   "id": "27904d26",
   "metadata": {},
   "source": [
    "# 2. 구급활동일지 Statistics"
   ]
  },
  {
   "cell_type": "code",
   "execution_count": 1,
   "id": "cf73feb3",
   "metadata": {},
   "outputs": [],
   "source": [
    "import numpy as np\n",
    "import pandas as pd\n",
    "import matplotlib\n",
    "from matplotlib import font_manager, rc\n",
    "import platform\n",
    "import seaborn as sns\n",
    "\n",
    "if platform.system() == 'Windows':\n",
    "    font_name = font_manager.FontProperties(fname=\"c:/Windows/Fonts/malgun.ttf\").get_name()\n",
    "    rc('font', family=font_name)\n",
    "else:\n",
    "    rc('font', family='AppleGothic')"
   ]
  },
  {
   "cell_type": "code",
   "execution_count": 2,
   "id": "f9f7f6a4",
   "metadata": {},
   "outputs": [],
   "source": [
    "df = pd.read_csv('./data/구급활동일지.csv', encoding='cp949')"
   ]
  },
  {
   "cell_type": "markdown",
   "id": "2adf2ed2",
   "metadata": {},
   "source": [
    "### (신고에서 도착까지) 걸린 시간 변수 생성"
   ]
  },
  {
   "cell_type": "code",
   "execution_count": 3,
   "id": "bbeb512d",
   "metadata": {},
   "outputs": [
    {
     "data": {
      "text/plain": [
       "0         2018-01-02 3:12:00\n",
       "1         2018-01-09 8:55:00\n",
       "2         2018-01-11 8:06:00\n",
       "3        2018-01-13 15:57:00\n",
       "4        2018-01-14 14:00:00\n",
       "                ...         \n",
       "29650    2020-12-21 16:00:00\n",
       "29651    2020-12-07 19:59:00\n",
       "29652    2020-12-30 13:10:00\n",
       "29653    2020-12-16 16:21:00\n",
       "29654    2020-12-05 19:28:00\n",
       "Length: 29655, dtype: object"
      ]
     },
     "execution_count": 3,
     "metadata": {},
     "output_type": "execute_result"
    }
   ],
   "source": [
    "date1 = df['신고년월일'].str[:10] + ' ' + df['신고시간'].str.strip() + ':00'\n",
    "date1"
   ]
  },
  {
   "cell_type": "code",
   "execution_count": 4,
   "id": "67e175a0",
   "metadata": {},
   "outputs": [
    {
     "data": {
      "text/plain": [
       "0         2018-01-02 3:18:00\n",
       "1         2018-01-09 9:01:00\n",
       "2         2018-01-11 8:13:00\n",
       "3        2018-01-13 16:02:00\n",
       "4        2018-01-14 14:02:00\n",
       "                ...         \n",
       "29650    2020-12-21 16:07:00\n",
       "29651    2020-12-07 20:07:00\n",
       "29652    2020-12-30 13:16:00\n",
       "29653    2020-12-16 16:30:00\n",
       "29654    2020-12-05 19:38:00\n",
       "Length: 29655, dtype: object"
      ]
     },
     "execution_count": 4,
     "metadata": {},
     "output_type": "execute_result"
    }
   ],
   "source": [
    "date2 = df['신고년월일'].str[:10] + ' ' + df['현장도착시간'].str.strip() + ':00'\n",
    "date2"
   ]
  },
  {
   "cell_type": "code",
   "execution_count": 5,
   "id": "3cf1aa75",
   "metadata": {},
   "outputs": [],
   "source": [
    "time_interval = pd.to_datetime(date2) - pd.to_datetime(date1)"
   ]
  },
  {
   "cell_type": "code",
   "execution_count": 6,
   "id": "e8c7abac",
   "metadata": {},
   "outputs": [
    {
     "data": {
      "text/plain": [
       "0       0 days 00:06:00\n",
       "1       0 days 00:06:00\n",
       "2       0 days 00:07:00\n",
       "3       0 days 00:05:00\n",
       "4       0 days 00:02:00\n",
       "              ...      \n",
       "29650   0 days 00:07:00\n",
       "29651   0 days 00:08:00\n",
       "29652   0 days 00:06:00\n",
       "29653   0 days 00:09:00\n",
       "29654   0 days 00:10:00\n",
       "Length: 29655, dtype: timedelta64[ns]"
      ]
     },
     "execution_count": 6,
     "metadata": {},
     "output_type": "execute_result"
    }
   ],
   "source": [
    "time_interval"
   ]
  },
  {
   "cell_type": "code",
   "execution_count": 7,
   "id": "69bf063d",
   "metadata": {},
   "outputs": [
    {
     "data": {
      "text/plain": [
       "0         6\n",
       "1         6\n",
       "2         7\n",
       "3         5\n",
       "4         2\n",
       "         ..\n",
       "29650     7\n",
       "29651     8\n",
       "29652     6\n",
       "29653     9\n",
       "29654    10\n",
       "Length: 29655, dtype: int32"
      ]
     },
     "execution_count": 7,
     "metadata": {},
     "output_type": "execute_result"
    }
   ],
   "source": [
    "time_interval = pd.to_timedelta(time_interval).astype('timedelta64[m]').astype(int)\n",
    "time_interval"
   ]
  },
  {
   "cell_type": "markdown",
   "id": "99b32e47",
   "metadata": {},
   "source": [
    "00시를 넘어 날짜가 바뀐 경우 : 60분\\*24시간=1440분 더함"
   ]
  },
  {
   "cell_type": "code",
   "execution_count": 8,
   "id": "5b44714b",
   "metadata": {},
   "outputs": [
    {
     "data": {
      "text/plain": [
       "94"
      ]
     },
     "execution_count": 8,
     "metadata": {},
     "output_type": "execute_result"
    }
   ],
   "source": [
    "(time_interval < 0).sum()"
   ]
  },
  {
   "cell_type": "code",
   "execution_count": 9,
   "id": "cf506698",
   "metadata": {},
   "outputs": [
    {
     "data": {
      "text/plain": [
       "108       -20\n",
       "229     -1432\n",
       "627     -1433\n",
       "992     -1433\n",
       "1071    -1389\n",
       "         ... \n",
       "29077   -1433\n",
       "29247   -1435\n",
       "29463   -1435\n",
       "29495   -1430\n",
       "29627   -1434\n",
       "Length: 94, dtype: int32"
      ]
     },
     "execution_count": 9,
     "metadata": {},
     "output_type": "execute_result"
    }
   ],
   "source": [
    "time_interval.loc[(time_interval < 0)]"
   ]
  },
  {
   "cell_type": "code",
   "execution_count": 10,
   "id": "4eb20108",
   "metadata": {},
   "outputs": [
    {
     "data": {
      "text/plain": [
       "0         6\n",
       "1         6\n",
       "2         7\n",
       "3         5\n",
       "4         2\n",
       "         ..\n",
       "29650     7\n",
       "29651     8\n",
       "29652     6\n",
       "29653     9\n",
       "29654    10\n",
       "Length: 29655, dtype: int32"
      ]
     },
     "execution_count": 10,
     "metadata": {},
     "output_type": "execute_result"
    }
   ],
   "source": [
    "time_interval.loc[(time_interval < 0)] += 1440\n",
    "time_interval"
   ]
  },
  {
   "cell_type": "code",
   "execution_count": 11,
   "id": "d300d8f4",
   "metadata": {},
   "outputs": [],
   "source": [
    "df['걸린시간'] = time_interval"
   ]
  },
  {
   "cell_type": "markdown",
   "id": "5174c1a0",
   "metadata": {},
   "source": [
    "### 환자연령이 999인 경우가 있기 때문에, 그 값을 제외"
   ]
  },
  {
   "cell_type": "code",
   "execution_count": 12,
   "id": "33f24093",
   "metadata": {},
   "outputs": [
    {
     "data": {
      "text/html": [
       "<div>\n",
       "<style scoped>\n",
       "    .dataframe tbody tr th:only-of-type {\n",
       "        vertical-align: middle;\n",
       "    }\n",
       "\n",
       "    .dataframe tbody tr th {\n",
       "        vertical-align: top;\n",
       "    }\n",
       "\n",
       "    .dataframe thead th {\n",
       "        text-align: right;\n",
       "    }\n",
       "</style>\n",
       "<table border=\"1\" class=\"dataframe\">\n",
       "  <thead>\n",
       "    <tr style=\"text-align: right;\">\n",
       "      <th></th>\n",
       "      <th>현장과의거리</th>\n",
       "      <th>환자연령</th>\n",
       "      <th>걸린시간</th>\n",
       "    </tr>\n",
       "  </thead>\n",
       "  <tbody>\n",
       "    <tr>\n",
       "      <th>count</th>\n",
       "      <td>29655.000000</td>\n",
       "      <td>29655.000000</td>\n",
       "      <td>29655.000000</td>\n",
       "    </tr>\n",
       "    <tr>\n",
       "      <th>mean</th>\n",
       "      <td>1.865264</td>\n",
       "      <td>67.864879</td>\n",
       "      <td>7.413421</td>\n",
       "    </tr>\n",
       "    <tr>\n",
       "      <th>std</th>\n",
       "      <td>1.361086</td>\n",
       "      <td>19.361127</td>\n",
       "      <td>10.321698</td>\n",
       "    </tr>\n",
       "    <tr>\n",
       "      <th>min</th>\n",
       "      <td>0.000000</td>\n",
       "      <td>0.000000</td>\n",
       "      <td>0.000000</td>\n",
       "    </tr>\n",
       "    <tr>\n",
       "      <th>25%</th>\n",
       "      <td>1.000000</td>\n",
       "      <td>57.000000</td>\n",
       "      <td>5.000000</td>\n",
       "    </tr>\n",
       "    <tr>\n",
       "      <th>50%</th>\n",
       "      <td>1.700000</td>\n",
       "      <td>71.000000</td>\n",
       "      <td>7.000000</td>\n",
       "    </tr>\n",
       "    <tr>\n",
       "      <th>75%</th>\n",
       "      <td>2.200000</td>\n",
       "      <td>82.000000</td>\n",
       "      <td>8.000000</td>\n",
       "    </tr>\n",
       "    <tr>\n",
       "      <th>max</th>\n",
       "      <td>45.000000</td>\n",
       "      <td>999.000000</td>\n",
       "      <td>1420.000000</td>\n",
       "    </tr>\n",
       "  </tbody>\n",
       "</table>\n",
       "</div>"
      ],
      "text/plain": [
       "             현장과의거리          환자연령          걸린시간\n",
       "count  29655.000000  29655.000000  29655.000000\n",
       "mean       1.865264     67.864879      7.413421\n",
       "std        1.361086     19.361127     10.321698\n",
       "min        0.000000      0.000000      0.000000\n",
       "25%        1.000000     57.000000      5.000000\n",
       "50%        1.700000     71.000000      7.000000\n",
       "75%        2.200000     82.000000      8.000000\n",
       "max       45.000000    999.000000   1420.000000"
      ]
     },
     "execution_count": 12,
     "metadata": {},
     "output_type": "execute_result"
    }
   ],
   "source": [
    "df.describe()"
   ]
  },
  {
   "cell_type": "code",
   "execution_count": 13,
   "id": "2e7e444f",
   "metadata": {},
   "outputs": [
    {
     "data": {
      "text/plain": [
       "29654"
      ]
     },
     "execution_count": 13,
     "metadata": {},
     "output_type": "execute_result"
    }
   ],
   "source": [
    "df = df.loc[df['환자연령'] != 999]\n",
    "len(df)"
   ]
  },
  {
   "cell_type": "markdown",
   "id": "882a6d0e",
   "metadata": {},
   "source": [
    "## 의미 있는 features만 남기고 모두 지우기\n",
    "- 현장과의 거리, 걸린 시간, 환자 연령, 환자 성별, 구급처종명"
   ]
  },
  {
   "cell_type": "code",
   "execution_count": 14,
   "id": "6622acec",
   "metadata": {},
   "outputs": [
    {
     "data": {
      "text/plain": [
       "Index(['출동소방서', '출동안전센터_지역대', '신고년월일', '신고시간', '접수경로', '관할구분', '출동년월일', '출동시간',\n",
       "       '현장도착시간', '현장과의거리', '환자연령', '환자성별', '긴급구조구', '긴급구조동', '구급처종명', '환자증상1',\n",
       "       '환자증상2', '환자증상3', '환자증상4', '환자증상5', '의식상태', '걸린시간'],\n",
       "      dtype='object')"
      ]
     },
     "execution_count": 14,
     "metadata": {},
     "output_type": "execute_result"
    }
   ],
   "source": [
    "df.columns"
   ]
  },
  {
   "cell_type": "code",
   "execution_count": 15,
   "id": "4ae89d35",
   "metadata": {},
   "outputs": [],
   "source": [
    "df = df[['현장과의거리', '걸린시간', '환자연령', '환자성별', '구급처종명']]"
   ]
  },
  {
   "cell_type": "markdown",
   "id": "6f7ce0d6",
   "metadata": {},
   "source": [
    "## Ordinal Encoding"
   ]
  },
  {
   "cell_type": "markdown",
   "id": "1eb166c7",
   "metadata": {},
   "source": [
    "### 성별"
   ]
  },
  {
   "cell_type": "code",
   "execution_count": 16,
   "id": "b8fa7c94",
   "metadata": {},
   "outputs": [],
   "source": [
    "df['환자성별'].replace({'여':0, '남':1}, inplace=True)"
   ]
  },
  {
   "cell_type": "markdown",
   "id": "80db6d77",
   "metadata": {},
   "source": [
    "### 구급처종명"
   ]
  },
  {
   "cell_type": "code",
   "execution_count": 17,
   "id": "7137a6aa",
   "metadata": {},
   "outputs": [
    {
     "data": {
      "text/plain": [
       "array(['집', '의료관련시설', '운동시설', '도로외교통지역', '오락/문화시설', '집단거주시설', '기타',\n",
       "       '상업시설', '도로', '바다/강/산/논밭', '공장/산업/건설시설', '학교/교육시설', '일차산업장', '가정'],\n",
       "      dtype=object)"
      ]
     },
     "execution_count": 17,
     "metadata": {},
     "output_type": "execute_result"
    }
   ],
   "source": [
    "df['구급처종명'].unique()"
   ]
  },
  {
   "cell_type": "code",
   "execution_count": 18,
   "id": "b55574bc",
   "metadata": {},
   "outputs": [
    {
     "data": {
      "text/plain": [
       "array(['집', '의료관련시설', '운동시설', '도로외교통지역', '오락/문화시설', '집단거주시설', '기타',\n",
       "       '상업시설', '도로', '바다/강/산/논밭', '공장/산업/건설시설', '학교/교육시설', '일차산업장'],\n",
       "      dtype=object)"
      ]
     },
     "execution_count": 18,
     "metadata": {},
     "output_type": "execute_result"
    }
   ],
   "source": [
    "# 집과 가정을 같은 곳으로 취급\n",
    "df['구급처종명'].replace({'가정':'집'}, inplace=True)\n",
    "df['구급처종명'].unique()"
   ]
  },
  {
   "cell_type": "code",
   "execution_count": 19,
   "id": "4081fe58",
   "metadata": {},
   "outputs": [
    {
     "data": {
      "text/plain": [
       "{'집': 0,\n",
       " '의료관련시설': 1,\n",
       " '운동시설': 2,\n",
       " '도로외교통지역': 3,\n",
       " '오락/문화시설': 4,\n",
       " '집단거주시설': 5,\n",
       " '기타': 6,\n",
       " '상업시설': 7,\n",
       " '도로': 8,\n",
       " '바다/강/산/논밭': 9,\n",
       " '공장/산업/건설시설': 10,\n",
       " '학교/교육시설': 11,\n",
       " '일차산업장': 12}"
      ]
     },
     "execution_count": 19,
     "metadata": {},
     "output_type": "execute_result"
    }
   ],
   "source": [
    "replacement_dict = dict()\n",
    "for i, place in enumerate(df['구급처종명'].unique()):\n",
    "    replacement_dict[place] = i\n",
    "replacement_dict"
   ]
  },
  {
   "cell_type": "code",
   "execution_count": 20,
   "id": "2ab97ac4",
   "metadata": {},
   "outputs": [],
   "source": [
    "df['구급처종명'].replace(replacement_dict, inplace=True)"
   ]
  },
  {
   "cell_type": "code",
   "execution_count": 21,
   "id": "49f35903",
   "metadata": {},
   "outputs": [
    {
     "data": {
      "text/html": [
       "<div>\n",
       "<style scoped>\n",
       "    .dataframe tbody tr th:only-of-type {\n",
       "        vertical-align: middle;\n",
       "    }\n",
       "\n",
       "    .dataframe tbody tr th {\n",
       "        vertical-align: top;\n",
       "    }\n",
       "\n",
       "    .dataframe thead th {\n",
       "        text-align: right;\n",
       "    }\n",
       "</style>\n",
       "<table border=\"1\" class=\"dataframe\">\n",
       "  <thead>\n",
       "    <tr style=\"text-align: right;\">\n",
       "      <th></th>\n",
       "      <th>현장과의거리</th>\n",
       "      <th>걸린시간</th>\n",
       "      <th>환자연령</th>\n",
       "      <th>환자성별</th>\n",
       "      <th>구급처종명</th>\n",
       "    </tr>\n",
       "  </thead>\n",
       "  <tbody>\n",
       "    <tr>\n",
       "      <th>0</th>\n",
       "      <td>2.1</td>\n",
       "      <td>6</td>\n",
       "      <td>62</td>\n",
       "      <td>1</td>\n",
       "      <td>0</td>\n",
       "    </tr>\n",
       "    <tr>\n",
       "      <th>1</th>\n",
       "      <td>0.7</td>\n",
       "      <td>6</td>\n",
       "      <td>76</td>\n",
       "      <td>1</td>\n",
       "      <td>0</td>\n",
       "    </tr>\n",
       "    <tr>\n",
       "      <th>2</th>\n",
       "      <td>1.5</td>\n",
       "      <td>7</td>\n",
       "      <td>52</td>\n",
       "      <td>1</td>\n",
       "      <td>0</td>\n",
       "    </tr>\n",
       "    <tr>\n",
       "      <th>3</th>\n",
       "      <td>1.3</td>\n",
       "      <td>5</td>\n",
       "      <td>65</td>\n",
       "      <td>1</td>\n",
       "      <td>0</td>\n",
       "    </tr>\n",
       "    <tr>\n",
       "      <th>4</th>\n",
       "      <td>1.0</td>\n",
       "      <td>2</td>\n",
       "      <td>79</td>\n",
       "      <td>1</td>\n",
       "      <td>0</td>\n",
       "    </tr>\n",
       "  </tbody>\n",
       "</table>\n",
       "</div>"
      ],
      "text/plain": [
       "   현장과의거리  걸린시간  환자연령 환자성별  구급처종명\n",
       "0     2.1     6    62    1      0\n",
       "1     0.7     6    76    1      0\n",
       "2     1.5     7    52    1      0\n",
       "3     1.3     5    65    1      0\n",
       "4     1.0     2    79    1      0"
      ]
     },
     "execution_count": 21,
     "metadata": {},
     "output_type": "execute_result"
    }
   ],
   "source": [
    "df.head()"
   ]
  },
  {
   "cell_type": "markdown",
   "id": "a8687858",
   "metadata": {},
   "source": [
    "## 그래프 시각화"
   ]
  },
  {
   "cell_type": "markdown",
   "id": "11856bcd",
   "metadata": {},
   "source": [
    "### 환자 연령별 환자 수"
   ]
  },
  {
   "cell_type": "code",
   "execution_count": 32,
   "id": "73722bfa",
   "metadata": {},
   "outputs": [],
   "source": [
    "import matplotlib.pyplot as plt"
   ]
  },
  {
   "cell_type": "code",
   "execution_count": 37,
   "id": "5bae81ba",
   "metadata": {},
   "outputs": [
    {
     "data": {
      "text/plain": [
       "Text(0.5, 1.0, '환자 연령별 환자 수')"
      ]
     },
     "execution_count": 37,
     "metadata": {},
     "output_type": "execute_result"
    },
    {
     "data": {
      "image/png": "[encoded data removed]",
      "text/plain": [
       "<Figure size 432x288 with 1 Axes>"
      ]
     },
     "metadata": {
      "needs_background": "light"
     },
     "output_type": "display_data"
    }
   ],
   "source": [
    "sns_plot = sns.histplot(data=df, x=\"환자연령\", bins=60)\n",
    "sns_plot.set_title('환자 연령별 환자 수')"
   ]
  },
  {
   "cell_type": "code",
   "execution_count": 39,
   "id": "2959d1da",
   "metadata": {},
   "outputs": [
    {
     "data": {
      "text/plain": [
       "<AxesSubplot:xlabel='환자연령', ylabel='Count'>"
      ]
     },
     "execution_count": 39,
     "metadata": {},
     "output_type": "execute_result"
    },
    {
     "data": {
      "image/png": "[encoded data removed]",
      "text/plain": [
       "<Figure size 432x288 with 1 Axes>"
      ]
     },
     "metadata": {
      "needs_background": "light"
     },
     "output_type": "display_data"
    }
   ],
   "source": [
    "sns.histplot(data=df, x=\"환자연령\", bins=60, hue='환자성별', multiple='stack')"
   ]
  },
  {
   "cell_type": "code",
   "execution_count": 40,
   "id": "fb0f517f",
   "metadata": {},
   "outputs": [
    {
     "data": {
      "image/png": "[encoded data removed]",
      "text/plain": [
       "<Figure size 1136x360 with 3 Axes>"
      ]
     },
     "metadata": {
      "needs_background": "light"
     },
     "output_type": "display_data"
    }
   ],
   "source": [
    "sns_plot = sns.displot(data=df, x=\"환자연령\", bins=60, hue='환자성별', col='환자성별')\n",
    "sns_plot.fig.subplots_adjust(top=0.9)\n",
    "sns_plot.fig.suptitle('성별로 구분한 환자 연령별 환자 수(0:여성, 1:남성)')"
   ]
  },
  {
   "cell_type": "code",
   "execution_count": 42,
   "id": "3cd19f19",
   "metadata": {},
   "outputs": [
    {
     "data": {
      "text/plain": [
       "<AxesSubplot:xlabel='환자연령', ylabel='Count'>"
      ]
     },
     "execution_count": 42,
     "metadata": {},
     "output_type": "execute_result"
    },
    {
     "data": {
      "image/png": "[encoded data removed]",
      "text/plain": [
       "<Figure size 432x288 with 1 Axes>"
      ]
     },
     "metadata": {
      "needs_background": "light"
     },
     "output_type": "display_data"
    }
   ],
   "source": [
    "sns.histplot(data=df, x=\"환자연령\", bins=60, hue='구급처종명', multiple='stack')"
   ]
  },
  {
   "cell_type": "markdown",
   "id": "4f01c62b",
   "metadata": {},
   "source": [
    "## Insight 1 : 성별과 연령은 심정지 사고의 중요한 feature이다."
   ]
  },
  {
   "cell_type": "markdown",
   "id": "f4902bcb",
   "metadata": {},
   "source": [
    "### 구급처종명(장소)별 환자 수"
   ]
  },
  {
   "cell_type": "code",
   "execution_count": 43,
   "id": "1474173e",
   "metadata": {},
   "outputs": [
    {
     "data": {
      "text/plain": [
       "Text(0.5, 1.0, '장소별 환자 수')"
      ]
     },
     "execution_count": 43,
     "metadata": {},
     "output_type": "execute_result"
    },
    {
     "data": {
      "image/png": "[encoded data removed]",
      "text/plain": [
       "<Figure size 432x288 with 1 Axes>"
      ]
     },
     "metadata": {
      "needs_background": "light"
     },
     "output_type": "display_data"
    }
   ],
   "source": [
    "sns_plot = sns.histplot(data=df, x=\"구급처종명\", bins=len(replacement_dict)-1)\n",
    "sns_plot.set_title('장소별 환자 수')"
   ]
  },
  {
   "cell_type": "code",
   "execution_count": 45,
   "id": "f21c27dc",
   "metadata": {},
   "outputs": [],
   "source": [
    "n_house = (df['구급처종명']==0).sum()\n",
    "n_other = (df['구급처종명']!=0).sum()"
   ]
  },
  {
   "cell_type": "code",
   "execution_count": 46,
   "id": "542cdec9",
   "metadata": {},
   "outputs": [
    {
     "name": "stdout",
     "output_type": "stream",
     "text": [
      "집에서 발생한 건수 : 23281건\n",
      "집 외 다른 장소에서 발생한 건수 : 6373건\n",
      "집에서 발생한 비율 : 78.509%\n"
     ]
    }
   ],
   "source": [
    "print(f'집에서 발생한 건수 : {n_house}건')\n",
    "print(f'집 외 다른 장소에서 발생한 건수 : {n_other}건')\n",
    "print(f'집에서 발생한 비율 : {n_house / (n_house + n_other) * 100:.3f}%')"
   ]
  },
  {
   "cell_type": "markdown",
   "id": "9a141537",
   "metadata": {},
   "source": [
    "## Insight 2 : 심정지 사건에 중요한 feature는 주거 인구이다.\n",
    "- 심정지 사건은 대부분 집에서 발생하기 때문."
   ]
  },
  {
   "cell_type": "markdown",
   "id": "361dde1e",
   "metadata": {},
   "source": [
    "### 걸린 시간별 환자 수"
   ]
  },
  {
   "cell_type": "code",
   "execution_count": 50,
   "id": "cb79f154",
   "metadata": {},
   "outputs": [
    {
     "data": {
      "image/png": "[encoded data removed]",
      "text/plain": [
       "<Figure size 432x288 with 1 Axes>"
      ]
     },
     "metadata": {
      "needs_background": "light"
     },
     "output_type": "display_data"
    }
   ],
   "source": [
    "sns.histplot(data=df.loc[df['걸린시간'] <= 20], x=\"걸린시간\", bins=20)\n",
    "plt.xticks(np.arange(0, 21, 2))\n",
    "plt.show()"
   ]
  },
  {
   "cell_type": "code",
   "execution_count": 51,
   "id": "0e105046",
   "metadata": {},
   "outputs": [
    {
     "data": {
      "text/html": [
       "<div>\n",
       "<style scoped>\n",
       "    .dataframe tbody tr th:only-of-type {\n",
       "        vertical-align: middle;\n",
       "    }\n",
       "\n",
       "    .dataframe tbody tr th {\n",
       "        vertical-align: top;\n",
       "    }\n",
       "\n",
       "    .dataframe thead th {\n",
       "        text-align: right;\n",
       "    }\n",
       "</style>\n",
       "<table border=\"1\" class=\"dataframe\">\n",
       "  <thead>\n",
       "    <tr style=\"text-align: right;\">\n",
       "      <th></th>\n",
       "      <th>현장과의거리</th>\n",
       "      <th>걸린시간</th>\n",
       "      <th>환자연령</th>\n",
       "      <th>구급처종명</th>\n",
       "    </tr>\n",
       "  </thead>\n",
       "  <tbody>\n",
       "    <tr>\n",
       "      <th>count</th>\n",
       "      <td>29654.000000</td>\n",
       "      <td>29654.000000</td>\n",
       "      <td>29654.000000</td>\n",
       "      <td>29654.000000</td>\n",
       "    </tr>\n",
       "    <tr>\n",
       "      <th>mean</th>\n",
       "      <td>1.865293</td>\n",
       "      <td>7.413401</td>\n",
       "      <td>67.833479</td>\n",
       "      <td>1.151649</td>\n",
       "    </tr>\n",
       "    <tr>\n",
       "      <th>std</th>\n",
       "      <td>1.361100</td>\n",
       "      <td>10.321871</td>\n",
       "      <td>18.591027</td>\n",
       "      <td>2.514579</td>\n",
       "    </tr>\n",
       "    <tr>\n",
       "      <th>min</th>\n",
       "      <td>0.000000</td>\n",
       "      <td>0.000000</td>\n",
       "      <td>0.000000</td>\n",
       "      <td>0.000000</td>\n",
       "    </tr>\n",
       "    <tr>\n",
       "      <th>25%</th>\n",
       "      <td>1.000000</td>\n",
       "      <td>5.000000</td>\n",
       "      <td>57.000000</td>\n",
       "      <td>0.000000</td>\n",
       "    </tr>\n",
       "    <tr>\n",
       "      <th>50%</th>\n",
       "      <td>1.700000</td>\n",
       "      <td>7.000000</td>\n",
       "      <td>71.000000</td>\n",
       "      <td>0.000000</td>\n",
       "    </tr>\n",
       "    <tr>\n",
       "      <th>75%</th>\n",
       "      <td>2.200000</td>\n",
       "      <td>8.000000</td>\n",
       "      <td>82.000000</td>\n",
       "      <td>0.000000</td>\n",
       "    </tr>\n",
       "    <tr>\n",
       "      <th>max</th>\n",
       "      <td>45.000000</td>\n",
       "      <td>1420.000000</td>\n",
       "      <td>119.000000</td>\n",
       "      <td>12.000000</td>\n",
       "    </tr>\n",
       "  </tbody>\n",
       "</table>\n",
       "</div>"
      ],
      "text/plain": [
       "             현장과의거리          걸린시간          환자연령         구급처종명\n",
       "count  29654.000000  29654.000000  29654.000000  29654.000000\n",
       "mean       1.865293      7.413401     67.833479      1.151649\n",
       "std        1.361100     10.321871     18.591027      2.514579\n",
       "min        0.000000      0.000000      0.000000      0.000000\n",
       "25%        1.000000      5.000000     57.000000      0.000000\n",
       "50%        1.700000      7.000000     71.000000      0.000000\n",
       "75%        2.200000      8.000000     82.000000      0.000000\n",
       "max       45.000000   1420.000000    119.000000     12.000000"
      ]
     },
     "execution_count": 51,
     "metadata": {},
     "output_type": "execute_result"
    }
   ],
   "source": [
    "df.describe()"
   ]
  },
  {
   "cell_type": "markdown",
   "id": "8afc01d4",
   "metadata": {},
   "source": [
    "#### 걸린 시간 기준으로 이상치 제거"
   ]
  },
  {
   "cell_type": "code",
   "execution_count": 52,
   "id": "43756e74",
   "metadata": {},
   "outputs": [],
   "source": [
    "import matplotlib.pyplot as plt\n",
    "\n",
    "%matplotlib inline"
   ]
  },
  {
   "cell_type": "code",
   "execution_count": 53,
   "id": "05c2662f",
   "metadata": {},
   "outputs": [
    {
     "data": {
      "image/png": "[encoded data removed]",
      "text/plain": [
       "<Figure size 360x432 with 1 Axes>"
      ]
     },
     "metadata": {
      "needs_background": "light"
     },
     "output_type": "display_data"
    }
   ],
   "source": [
    "fig = plt.figure(figsize=(5, 6))\n",
    "ax = fig.add_subplot(111)\n",
    "ax.boxplot(df['걸린시간'], labels=['걸린시간(분)'])\n",
    "\n",
    "plt.show()"
   ]
  },
  {
   "cell_type": "markdown",
   "id": "3ae83fbd",
   "metadata": {},
   "source": [
    "이상치(outlier)\n",
    "- q1 : 하위 25%\n",
    "- q3 : 상위 25% (하위 75%)\n",
    "- IQR : q3-q1\n",
    "- 이상치의 범위\n",
    "    - lower bound : q1 - (IQR\\*1.5)\n",
    "    - upper bound : q3 + (IQR\\*1.5)\n",
    "    - (< lower bound) or (> upper bound)"
   ]
  },
  {
   "cell_type": "code",
   "execution_count": 55,
   "id": "ed5f2630",
   "metadata": {},
   "outputs": [],
   "source": [
    "def del_outliter(df, feature):\n",
    "    q1, q3 = np.percentile(df[feature], [25, 75])\n",
    "    iqr = q3-q1\n",
    "\n",
    "    lower_bound = q1 - (iqr*1.5)\n",
    "    upper_bound = q3 + (iqr*1.5)\n",
    "\n",
    "    df = df.loc[(df[feature] <= upper_bound) & (df[feature] >= lower_bound)]\n",
    "    return df"
   ]
  },
  {
   "cell_type": "code",
   "execution_count": 56,
   "id": "9930f713",
   "metadata": {},
   "outputs": [],
   "source": [
    "df = del_outliter(df, '걸린시간')"
   ]
  },
  {
   "cell_type": "code",
   "execution_count": 57,
   "id": "3938d211",
   "metadata": {},
   "outputs": [
    {
     "data": {
      "text/html": [
       "<div>\n",
       "<style scoped>\n",
       "    .dataframe tbody tr th:only-of-type {\n",
       "        vertical-align: middle;\n",
       "    }\n",
       "\n",
       "    .dataframe tbody tr th {\n",
       "        vertical-align: top;\n",
       "    }\n",
       "\n",
       "    .dataframe thead th {\n",
       "        text-align: right;\n",
       "    }\n",
       "</style>\n",
       "<table border=\"1\" class=\"dataframe\">\n",
       "  <thead>\n",
       "    <tr style=\"text-align: right;\">\n",
       "      <th></th>\n",
       "      <th>현장과의거리</th>\n",
       "      <th>걸린시간</th>\n",
       "      <th>환자연령</th>\n",
       "      <th>구급처종명</th>\n",
       "    </tr>\n",
       "  </thead>\n",
       "  <tbody>\n",
       "    <tr>\n",
       "      <th>count</th>\n",
       "      <td>28180.000000</td>\n",
       "      <td>28180.000000</td>\n",
       "      <td>28180.000000</td>\n",
       "      <td>28180.000000</td>\n",
       "    </tr>\n",
       "    <tr>\n",
       "      <th>mean</th>\n",
       "      <td>1.760827</td>\n",
       "      <td>6.765898</td>\n",
       "      <td>67.967991</td>\n",
       "      <td>1.113449</td>\n",
       "    </tr>\n",
       "    <tr>\n",
       "      <th>std</th>\n",
       "      <td>0.921109</td>\n",
       "      <td>2.118635</td>\n",
       "      <td>18.543028</td>\n",
       "      <td>2.460088</td>\n",
       "    </tr>\n",
       "    <tr>\n",
       "      <th>min</th>\n",
       "      <td>0.000000</td>\n",
       "      <td>1.000000</td>\n",
       "      <td>0.000000</td>\n",
       "      <td>0.000000</td>\n",
       "    </tr>\n",
       "    <tr>\n",
       "      <th>25%</th>\n",
       "      <td>1.000000</td>\n",
       "      <td>5.000000</td>\n",
       "      <td>57.000000</td>\n",
       "      <td>0.000000</td>\n",
       "    </tr>\n",
       "    <tr>\n",
       "      <th>50%</th>\n",
       "      <td>1.600000</td>\n",
       "      <td>6.000000</td>\n",
       "      <td>72.000000</td>\n",
       "      <td>0.000000</td>\n",
       "    </tr>\n",
       "    <tr>\n",
       "      <th>75%</th>\n",
       "      <td>2.000000</td>\n",
       "      <td>8.000000</td>\n",
       "      <td>82.000000</td>\n",
       "      <td>0.000000</td>\n",
       "    </tr>\n",
       "    <tr>\n",
       "      <th>max</th>\n",
       "      <td>15.000000</td>\n",
       "      <td>12.000000</td>\n",
       "      <td>119.000000</td>\n",
       "      <td>12.000000</td>\n",
       "    </tr>\n",
       "  </tbody>\n",
       "</table>\n",
       "</div>"
      ],
      "text/plain": [
       "             현장과의거리          걸린시간          환자연령         구급처종명\n",
       "count  28180.000000  28180.000000  28180.000000  28180.000000\n",
       "mean       1.760827      6.765898     67.967991      1.113449\n",
       "std        0.921109      2.118635     18.543028      2.460088\n",
       "min        0.000000      1.000000      0.000000      0.000000\n",
       "25%        1.000000      5.000000     57.000000      0.000000\n",
       "50%        1.600000      6.000000     72.000000      0.000000\n",
       "75%        2.000000      8.000000     82.000000      0.000000\n",
       "max       15.000000     12.000000    119.000000     12.000000"
      ]
     },
     "execution_count": 57,
     "metadata": {},
     "output_type": "execute_result"
    }
   ],
   "source": [
    "df.describe()"
   ]
  },
  {
   "cell_type": "code",
   "execution_count": 58,
   "id": "3439878f",
   "metadata": {},
   "outputs": [
    {
     "data": {
      "image/png": "[encoded data removed]",
      "text/plain": [
       "<Figure size 360x432 with 1 Axes>"
      ]
     },
     "metadata": {
      "needs_background": "light"
     },
     "output_type": "display_data"
    }
   ],
   "source": [
    "fig = plt.figure(figsize=(5, 6))\n",
    "ax = fig.add_subplot(111)\n",
    "ax.boxplot(df['걸린시간'], labels=['걸린시간(분)'])\n",
    "plt.show()"
   ]
  },
  {
   "cell_type": "code",
   "execution_count": 65,
   "id": "2765c393",
   "metadata": {},
   "outputs": [
    {
     "data": {
      "text/plain": [
       "Text(0.5, 1.0, '구조까지 걸린 시간에 따른 환자 수')"
      ]
     },
     "execution_count": 65,
     "metadata": {},
     "output_type": "execute_result"
    },
    {
     "data": {
      "image/png": "[encoded data removed]",
      "text/plain": [
       "<Figure size 432x288 with 1 Axes>"
      ]
     },
     "metadata": {
      "needs_background": "light"
     },
     "output_type": "display_data"
    }
   ],
   "source": [
    "sns_plot = sns.histplot(data=df, x=\"걸린시간\", bins=11)\n",
    "sns_plot.set_title('구조까지 걸린 시간에 따른 환자 수')"
   ]
  },
  {
   "cell_type": "markdown",
   "id": "af47e1cc",
   "metadata": {},
   "source": [
    "## 현장과의 거리와 걸린 시간 사이의 관계"
   ]
  },
  {
   "cell_type": "code",
   "execution_count": 67,
   "id": "e8a56712",
   "metadata": {},
   "outputs": [
    {
     "data": {
      "text/html": [
       "<div>\n",
       "<style scoped>\n",
       "    .dataframe tbody tr th:only-of-type {\n",
       "        vertical-align: middle;\n",
       "    }\n",
       "\n",
       "    .dataframe tbody tr th {\n",
       "        vertical-align: top;\n",
       "    }\n",
       "\n",
       "    .dataframe thead th {\n",
       "        text-align: right;\n",
       "    }\n",
       "</style>\n",
       "<table border=\"1\" class=\"dataframe\">\n",
       "  <thead>\n",
       "    <tr style=\"text-align: right;\">\n",
       "      <th></th>\n",
       "      <th>현장과의거리</th>\n",
       "      <th>걸린시간</th>\n",
       "      <th>환자연령</th>\n",
       "      <th>구급처종명</th>\n",
       "    </tr>\n",
       "  </thead>\n",
       "  <tbody>\n",
       "    <tr>\n",
       "      <th>현장과의거리</th>\n",
       "      <td>1.000000</td>\n",
       "      <td>0.484818</td>\n",
       "      <td>-0.000527</td>\n",
       "      <td>0.004357</td>\n",
       "    </tr>\n",
       "    <tr>\n",
       "      <th>걸린시간</th>\n",
       "      <td>0.484818</td>\n",
       "      <td>1.000000</td>\n",
       "      <td>0.024793</td>\n",
       "      <td>-0.034163</td>\n",
       "    </tr>\n",
       "    <tr>\n",
       "      <th>환자연령</th>\n",
       "      <td>-0.000527</td>\n",
       "      <td>0.024793</td>\n",
       "      <td>1.000000</td>\n",
       "      <td>-0.216678</td>\n",
       "    </tr>\n",
       "    <tr>\n",
       "      <th>구급처종명</th>\n",
       "      <td>0.004357</td>\n",
       "      <td>-0.034163</td>\n",
       "      <td>-0.216678</td>\n",
       "      <td>1.000000</td>\n",
       "    </tr>\n",
       "  </tbody>\n",
       "</table>\n",
       "</div>"
      ],
      "text/plain": [
       "          현장과의거리      걸린시간      환자연령     구급처종명\n",
       "현장과의거리  1.000000  0.484818 -0.000527  0.004357\n",
       "걸린시간    0.484818  1.000000  0.024793 -0.034163\n",
       "환자연령   -0.000527  0.024793  1.000000 -0.216678\n",
       "구급처종명   0.004357 -0.034163 -0.216678  1.000000"
      ]
     },
     "execution_count": 67,
     "metadata": {},
     "output_type": "execute_result"
    }
   ],
   "source": [
    "df.corr()"
   ]
  },
  {
   "cell_type": "code",
   "execution_count": 69,
   "id": "2ba5257f",
   "metadata": {},
   "outputs": [],
   "source": [
    "from scipy import stats\n",
    "import statsmodels.formula.api as smf"
   ]
  },
  {
   "cell_type": "code",
   "execution_count": 71,
   "id": "de13fe18",
   "metadata": {},
   "outputs": [
    {
     "data": {
      "text/html": [
       "<table class=\"simpletable\">\n",
       "<caption>OLS Regression Results</caption>\n",
       "<tr>\n",
       "  <th>Dep. Variable:</th>         <td>현장과의거리</td>      <th>  R-squared:         </th> <td>   0.235</td> \n",
       "</tr>\n",
       "<tr>\n",
       "  <th>Model:</th>                   <td>OLS</td>       <th>  Adj. R-squared:    </th> <td>   0.235</td> \n",
       "</tr>\n",
       "<tr>\n",
       "  <th>Method:</th>             <td>Least Squares</td>  <th>  F-statistic:       </th> <td>   8658.</td> \n",
       "</tr>\n",
       "<tr>\n",
       "  <th>Date:</th>             <td>Fri, 23 Jul 2021</td> <th>  Prob (F-statistic):</th>  <td>  0.00</td>  \n",
       "</tr>\n",
       "<tr>\n",
       "  <th>Time:</th>                 <td>20:51:59</td>     <th>  Log-Likelihood:    </th> <td> -33894.</td> \n",
       "</tr>\n",
       "<tr>\n",
       "  <th>No. Observations:</th>      <td> 28180</td>      <th>  AIC:               </th> <td>6.779e+04</td>\n",
       "</tr>\n",
       "<tr>\n",
       "  <th>Df Residuals:</th>          <td> 28178</td>      <th>  BIC:               </th> <td>6.781e+04</td>\n",
       "</tr>\n",
       "<tr>\n",
       "  <th>Df Model:</th>              <td>     1</td>      <th>                     </th>     <td> </td>    \n",
       "</tr>\n",
       "<tr>\n",
       "  <th>Covariance Type:</th>      <td>nonrobust</td>    <th>                     </th>     <td> </td>    \n",
       "</tr>\n",
       "</table>\n",
       "<table class=\"simpletable\">\n",
       "<tr>\n",
       "      <td></td>         <th>coef</th>     <th>std err</th>      <th>t</th>      <th>P>|t|</th>  <th>[0.025</th>    <th>0.975]</th>  \n",
       "</tr>\n",
       "<tr>\n",
       "  <th>Intercept</th> <td>    0.3347</td> <td>    0.016</td> <td>   20.840</td> <td> 0.000</td> <td>    0.303</td> <td>    0.366</td>\n",
       "</tr>\n",
       "<tr>\n",
       "  <th>걸린시간</th>      <td>    0.2108</td> <td>    0.002</td> <td>   93.050</td> <td> 0.000</td> <td>    0.206</td> <td>    0.215</td>\n",
       "</tr>\n",
       "</table>\n",
       "<table class=\"simpletable\">\n",
       "<tr>\n",
       "  <th>Omnibus:</th>       <td>7760.079</td> <th>  Durbin-Watson:     </th> <td>   1.841</td> \n",
       "</tr>\n",
       "<tr>\n",
       "  <th>Prob(Omnibus):</th>  <td> 0.000</td>  <th>  Jarque-Bera (JB):  </th> <td>50402.850</td>\n",
       "</tr>\n",
       "<tr>\n",
       "  <th>Skew:</th>           <td> 1.165</td>  <th>  Prob(JB):          </th> <td>    0.00</td> \n",
       "</tr>\n",
       "<tr>\n",
       "  <th>Kurtosis:</th>       <td> 9.124</td>  <th>  Cond. No.          </th> <td>    24.2</td> \n",
       "</tr>\n",
       "</table><br/><br/>Notes:<br/>[1] Standard Errors assume that the covariance matrix of the errors is correctly specified."
      ],
      "text/plain": [
       "<class 'statsmodels.iolib.summary.Summary'>\n",
       "\"\"\"\n",
       "                            OLS Regression Results                            \n",
       "==============================================================================\n",
       "Dep. Variable:                 현장과의거리   R-squared:                       0.235\n",
       "Model:                            OLS   Adj. R-squared:                  0.235\n",
       "Method:                 Least Squares   F-statistic:                     8658.\n",
       "Date:                Fri, 23 Jul 2021   Prob (F-statistic):               0.00\n",
       "Time:                        20:51:59   Log-Likelihood:                -33894.\n",
       "No. Observations:               28180   AIC:                         6.779e+04\n",
       "Df Residuals:                   28178   BIC:                         6.781e+04\n",
       "Df Model:                           1                                         \n",
       "Covariance Type:            nonrobust                                         \n",
       "==============================================================================\n",
       "                 coef    std err          t      P>|t|      [0.025      0.975]\n",
       "------------------------------------------------------------------------------\n",
       "Intercept      0.3347      0.016     20.840      0.000       0.303       0.366\n",
       "걸린시간           0.2108      0.002     93.050      0.000       0.206       0.215\n",
       "==============================================================================\n",
       "Omnibus:                     7760.079   Durbin-Watson:                   1.841\n",
       "Prob(Omnibus):                  0.000   Jarque-Bera (JB):            50402.850\n",
       "Skew:                           1.165   Prob(JB):                         0.00\n",
       "Kurtosis:                       9.124   Cond. No.                         24.2\n",
       "==============================================================================\n",
       "\n",
       "Notes:\n",
       "[1] Standard Errors assume that the covariance matrix of the errors is correctly specified.\n",
       "\"\"\""
      ]
     },
     "execution_count": 71,
     "metadata": {},
     "output_type": "execute_result"
    }
   ],
   "source": [
    "formula = '현장과의거리 ~ 걸린시간' # '설명변수 ~ 반응변수'\n",
    "result = smf.ols(formula, df).fit() # ols : Ordinary Least Squares(최소제곱법)\n",
    "result.summary()"
   ]
  },
  {
   "cell_type": "code",
   "execution_count": 73,
   "id": "ebec3699",
   "metadata": {},
   "outputs": [],
   "source": [
    "x = np.array(df['걸린시간'])\n",
    "y = np.array(df['현장과의거리'])\n",
    "p = 1 # 설명변수의 수"
   ]
  },
  {
   "cell_type": "code",
   "execution_count": 74,
   "id": "b94f710d",
   "metadata": {},
   "outputs": [
    {
     "data": {
      "image/png": "[encoded data removed]",
      "text/plain": [
       "<Figure size 720x432 with 1 Axes>"
      ]
     },
     "metadata": {
      "needs_background": "light"
     },
     "output_type": "display_data"
    }
   ],
   "source": [
    "poly_fit = np.polyfit(x, y, 1) # (b1, b0) 반환\n",
    "poly_1d = np.poly1d(poly_fit) # y=b1x+b0 함수 생성\n",
    "xs = np.linspace(x.min(), x.max())\n",
    "ys = poly_1d(xs)\n",
    "\n",
    "fig = plt.figure(figsize=(10, 6))\n",
    "ax = fig.add_subplot(111)\n",
    "ax.set_xlabel('걸린 시간 (분)')\n",
    "ax.set_ylabel('현장과의 거리 (km)')\n",
    "ax.plot(xs, ys, color='gray', label=f'{poly_fit[1]:.4f}+{poly_fit[0]:.4f}x')\n",
    "ax.scatter(x, y)\n",
    "ax.legend()\n",
    "\n",
    "plt.show()"
   ]
  },
  {
   "cell_type": "code",
   "execution_count": 77,
   "id": "2f2df876",
   "metadata": {},
   "outputs": [
    {
     "name": "stdout",
     "output_type": "stream",
     "text": [
      "3분 거리 : 0.967km\n",
      "4분 거리 : 1.178km\n",
      "5분 거리 : 1.389km\n"
     ]
    }
   ],
   "source": [
    "mins = [3, 4, 5]\n",
    "distances = poly_1d(mins)\n",
    "\n",
    "for m, d in zip(mins, distances):\n",
    "    print(f'{m}분 거리 : {d:.3f}km')"
   ]
  },
  {
   "cell_type": "markdown",
   "id": "ec66fad4",
   "metadata": {},
   "source": [
    "## Insight 3 : 소방서 및 119 안전센터로부터 5분 거리는 약 1km이다.\n",
    "- 골든 타임 5분 내에 도착하는 것이 중요함\n",
    "- 직선 거리 1.389km이므로 실제 이동 거리 1km로 가정"
   ]
  },
  {
   "cell_type": "code",
   "execution_count": null,
   "id": "cf943f86",
   "metadata": {},
   "outputs": [],
   "source": []
  }
 ],
 "metadata": {
  "kernelspec": {
   "display_name": "Python Geo",
   "language": "python",
   "name": "geo"
  },
  "language_info": {
   "codemirror_mode": {
    "name": "ipython",
    "version": 3
   },
   "file_extension": ".py",
   "mimetype": "text/x-python",
   "name": "python",
   "nbconvert_exporter": "python",
   "pygments_lexer": "ipython3",
   "version": "3.9.6"
  }
 },
 "nbformat": 4,
 "nbformat_minor": 5
}
