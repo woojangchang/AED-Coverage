{
 "cells": [
  {
   "cell_type": "markdown",
   "id": "5511f27a",
   "metadata": {},
   "source": [
    "# 2. 심정지 환자만 추출 및 결측치 제거\n",
    "- 데이터 출처 : 서울소방재난본부 ('2018~'2020)"
   ]
  },
  {
   "cell_type": "markdown",
   "id": "c281ad2e",
   "metadata": {},
   "source": [
    "## 2-1. 데이터를 불러와서 심정지 환자만 추출"
   ]
  },
  {
   "cell_type": "code",
   "execution_count": 1,
   "id": "5409395a",
   "metadata": {},
   "outputs": [],
   "source": [
    "import numpy as np\n",
    "import pandas as pd"
   ]
  },
  {
   "cell_type": "code",
   "execution_count": 2,
   "id": "e44b483c",
   "metadata": {},
   "outputs": [],
   "source": [
    "df1 = pd.read_excel('./data/구급활동일지_ 2018.xlsx')\n",
    "df2 = pd.read_excel('./data/구급활동일지_ 2019.xlsx')\n",
    "df3 = pd.read_excel('./data/구급활동일지_ 2020.xlsx')"
   ]
  },
  {
   "cell_type": "code",
   "execution_count": 15,
   "id": "23db4c17",
   "metadata": {},
   "outputs": [],
   "source": [
    "df_all = pd.concat([df1, df2, df3])"
   ]
  },
  {
   "cell_type": "code",
   "execution_count": 16,
   "id": "6e32ad2b",
   "metadata": {},
   "outputs": [
    {
     "data": {
      "text/plain": [
       "Index(['출동소방서', '출동안전센터_지역대', '신고년월일', '신고시간', '접수경로', '관할구분', '출동년월일', '출동시간',\n",
       "       '현장도착시간', '현장과의거리', '환자연령', '환자성별', '긴급구조구', '긴급구조동', '구급처종명', '환자증상1',\n",
       "       '환자증상2', '환자증상3', '환자증상4', '환자증상5', '의식상태'],\n",
       "      dtype='object')"
      ]
     },
     "execution_count": 16,
     "metadata": {},
     "output_type": "execute_result"
    }
   ],
   "source": [
    "df_all.columns"
   ]
  },
  {
   "cell_type": "code",
   "execution_count": 17,
   "id": "64dd2984",
   "metadata": {},
   "outputs": [
    {
     "data": {
      "text/plain": [
       "(1576154, 21)"
      ]
     },
     "execution_count": 17,
     "metadata": {},
     "output_type": "execute_result"
    }
   ],
   "source": [
    "df_all.shape"
   ]
  },
  {
   "cell_type": "code",
   "execution_count": 32,
   "id": "ec550bcd",
   "metadata": {},
   "outputs": [],
   "source": [
    "df_ca = df_all.loc[(df_all['환자증상1'] == '심정지') | (df_all['환자증상2'] == '심정지') |\n",
    "                   (df_all['환자증상3'] == '심정지') | (df_all['환자증상4'] == '심정지') |\n",
    "                   (df_all['환자증상5'] == '심정지')]"
   ]
  },
  {
   "cell_type": "code",
   "execution_count": 33,
   "id": "93c2d4be",
   "metadata": {},
   "outputs": [
    {
     "data": {
      "text/plain": [
       "(32898, 21)"
      ]
     },
     "execution_count": 33,
     "metadata": {},
     "output_type": "execute_result"
    }
   ],
   "source": [
    "df_ca.shape"
   ]
  },
  {
   "cell_type": "code",
   "execution_count": 34,
   "id": "69728ae6",
   "metadata": {},
   "outputs": [
    {
     "data": {
      "text/plain": [
       "출동소방서             0\n",
       "출동안전센터_지역대        0\n",
       "신고년월일             0\n",
       "신고시간              0\n",
       "접수경로              0\n",
       "관할구분          22280\n",
       "출동년월일             0\n",
       "출동시간              0\n",
       "현장도착시간          206\n",
       "현장과의거리            0\n",
       "환자연령           1706\n",
       "환자성별           1464\n",
       "긴급구조구             0\n",
       "긴급구조동             0\n",
       "구급처종명          1687\n",
       "환자증상1             0\n",
       "환자증상2          2599\n",
       "환자증상3         31480\n",
       "환자증상4         32462\n",
       "환자증상5         32767\n",
       "의식상태            546\n",
       "dtype: int64"
      ]
     },
     "execution_count": 34,
     "metadata": {},
     "output_type": "execute_result"
    }
   ],
   "source": [
    "df_ca.isnull().sum()"
   ]
  },
  {
   "cell_type": "markdown",
   "id": "f40820aa",
   "metadata": {},
   "source": [
    "## 2-2. 현장 도착 시간, 환자 연령, 환자 성별, 구급처종명이 결측치인 행 제거"
   ]
  },
  {
   "cell_type": "code",
   "execution_count": 35,
   "id": "135b0b07",
   "metadata": {},
   "outputs": [],
   "source": [
    "ndf = df_ca.reset_index()"
   ]
  },
  {
   "cell_type": "code",
   "execution_count": 36,
   "id": "e81f3eae",
   "metadata": {},
   "outputs": [
    {
     "data": {
      "text/plain": [
       "Int64Index([    0,     1,     2,     3,     4,     5,     6,     7,     9,\n",
       "               10,\n",
       "            ...\n",
       "            32887, 32888, 32889, 32890, 32891, 32892, 32893, 32895, 32896,\n",
       "            32897],\n",
       "           dtype='int64', length=29655)"
      ]
     },
     "execution_count": 36,
     "metadata": {},
     "output_type": "execute_result"
    }
   ],
   "source": [
    "tmp_df = ndf[['현장도착시간', '환자연령', '환자성별', '구급처종명']].dropna(axis=0)\n",
    "idx = tmp_df.index\n",
    "idx"
   ]
  },
  {
   "cell_type": "code",
   "execution_count": 37,
   "id": "e7344e21",
   "metadata": {},
   "outputs": [],
   "source": [
    "ndf_ca = ndf.loc[idx, :]"
   ]
  },
  {
   "cell_type": "code",
   "execution_count": 38,
   "id": "6f010497",
   "metadata": {},
   "outputs": [
    {
     "data": {
      "text/plain": [
       "index             0\n",
       "출동소방서             0\n",
       "출동안전센터_지역대        0\n",
       "신고년월일             0\n",
       "신고시간              0\n",
       "접수경로              0\n",
       "관할구분          20846\n",
       "출동년월일             0\n",
       "출동시간              0\n",
       "현장도착시간            0\n",
       "현장과의거리            0\n",
       "환자연령              0\n",
       "환자성별              0\n",
       "긴급구조구             0\n",
       "긴급구조동             0\n",
       "구급처종명             0\n",
       "환자증상1             0\n",
       "환자증상2          2077\n",
       "환자증상3         28287\n",
       "환자증상4         29234\n",
       "환자증상5         29526\n",
       "의식상태            203\n",
       "dtype: int64"
      ]
     },
     "execution_count": 38,
     "metadata": {},
     "output_type": "execute_result"
    }
   ],
   "source": [
    "ndf_ca.isnull().sum()"
   ]
  },
  {
   "cell_type": "code",
   "execution_count": 39,
   "id": "9303dc62",
   "metadata": {},
   "outputs": [
    {
     "data": {
      "text/plain": [
       "(29655, 22)"
      ]
     },
     "execution_count": 39,
     "metadata": {},
     "output_type": "execute_result"
    }
   ],
   "source": [
    "ndf_ca.shape"
   ]
  },
  {
   "cell_type": "code",
   "execution_count": 41,
   "id": "013c807a",
   "metadata": {},
   "outputs": [
    {
     "name": "stdout",
     "output_type": "stream",
     "text": [
      "원래 데이터 개수 : 1576154\n",
      "심정지 환자 데이터 개수 : 32898\n",
      "결측치 제거 후 데이터 개수 : 29655\n",
      "제거된 결측치 데이터 개수 : 3243\n",
      "제거된 결측치 데이터 비율 : 9.858%\n"
     ]
    }
   ],
   "source": [
    "len_data = df_all.shape[0]\n",
    "len_ca = df_ca.shape[0]\n",
    "len_ca_dropna = ndf_ca.shape[0]\n",
    "print(f'원래 데이터 개수 : {len_data}')\n",
    "print(f'심정지 환자 데이터 개수 : {len_ca}')\n",
    "print(f'결측치 제거 후 데이터 개수 : {len_ca_dropna}')\n",
    "print(f'제거된 결측치 데이터 개수 : {len_ca-len_ca_dropna}')\n",
    "print(f'제거된 결측치 데이터 비율 : {(len_ca-len_ca_dropna)/len_ca*100:.3f}%')"
   ]
  },
  {
   "cell_type": "markdown",
   "id": "bf276098",
   "metadata": {},
   "source": [
    "csv 파일로 저장"
   ]
  },
  {
   "cell_type": "code",
   "execution_count": 42,
   "id": "68c18cb8",
   "metadata": {},
   "outputs": [],
   "source": [
    "ndf_ca.to_csv('./data/구급활동일지.csv', encoding='cp949', index=False)"
   ]
  },
  {
   "cell_type": "code",
   "execution_count": null,
   "id": "eaa43049",
   "metadata": {},
   "outputs": [],
   "source": []
  }
 ],
 "metadata": {
  "kernelspec": {
   "display_name": "Python Multi",
   "language": "python",
   "name": "multi"
  },
  "language_info": {
   "codemirror_mode": {
    "name": "ipython",
    "version": 3
   },
   "file_extension": ".py",
   "mimetype": "text/x-python",
   "name": "python",
   "nbconvert_exporter": "python",
   "pygments_lexer": "ipython3",
   "version": "3.7.6"
  }
 },
 "nbformat": 4,
 "nbformat_minor": 5
}
