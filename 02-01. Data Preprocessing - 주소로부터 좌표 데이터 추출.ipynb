{
 "cells": [
  {
   "cell_type": "markdown",
   "id": "338bc80a",
   "metadata": {},
   "source": [
    "# 1. 네이버 맵 Geocoding API 이용\n",
    "\n",
    "참고 : https://ring-wdr.github.io/python/2020/11/14/naver_map_api.html"
   ]
  },
  {
   "cell_type": "code",
   "execution_count": 1,
   "id": "a7c4c343",
   "metadata": {},
   "outputs": [],
   "source": [
    "import numpy as np\n",
    "import pandas as pd\n",
    "from urllib.request import urlopen\n",
    "from urllib import parse\n",
    "from urllib.request import Request\n",
    "from urllib.error import HTTPError\n",
    "from bs4 import BeautifulSoup\n",
    "import json"
   ]
  },
  {
   "cell_type": "markdown",
   "id": "77a76389",
   "metadata": {},
   "source": [
    "## 1-1. 네이버 API ID, PW 불러오기  \n",
    "`secrets.json`\n",
    "```json\n",
    "{\n",
    "    \"client_id\":\"id\",\n",
    "    \"client_pw\":\"password\"\n",
    "}\n",
    "```"
   ]
  },
  {
   "cell_type": "code",
   "execution_count": 4,
   "id": "cd2bc334",
   "metadata": {},
   "outputs": [],
   "source": [
    "secret_file = 'secrets.json'\n",
    "\n",
    "# secrets.json 불러오기\n",
    "with open(secret_file) as f:\n",
    "    secrets = json.loads(f.read())\n",
    "\n",
    "# secrets.json 파일에서 id, pw 불러오기\n",
    "def get_secret(setting, secrets=secrets):\n",
    "    try:\n",
    "        return secrets[setting]\n",
    "    except KeyError:\n",
    "        error_msg = f'No such file(secrets.json) or key {setting}'\n",
    "        raise ImproperlyConfigured(error_msg)\n",
    "        \n",
    "client_id = get_secret(\"client_id\")\n",
    "client_pw = get_secret(\"client_pw\")"
   ]
  },
  {
   "cell_type": "markdown",
   "id": "e7e8d0aa",
   "metadata": {},
   "source": [
    "## 1-2. AED 주소 csv 파일 불러오기\n",
    "- AED 주소 데이터 : [E-gen 자동심장충격기(AED) 찾기](https://www.e-gen.or.kr/egen/search_aed.do?searchType=general) - \\[서울특별시\\] - \\[검색\\] - \\[검색결과 다운로드\\]"
   ]
  },
  {
   "cell_type": "code",
   "execution_count": 5,
   "id": "4c65ebf3",
   "metadata": {},
   "outputs": [
    {
     "data": {
      "text/html": [
       "<div>\n",
       "<style scoped>\n",
       "    .dataframe tbody tr th:only-of-type {\n",
       "        vertical-align: middle;\n",
       "    }\n",
       "\n",
       "    .dataframe tbody tr th {\n",
       "        vertical-align: top;\n",
       "    }\n",
       "\n",
       "    .dataframe thead th {\n",
       "        text-align: right;\n",
       "    }\n",
       "</style>\n",
       "<table border=\"1\" class=\"dataframe\">\n",
       "  <thead>\n",
       "    <tr style=\"text-align: right;\">\n",
       "      <th></th>\n",
       "      <th>NO</th>\n",
       "      <th>설치장소</th>\n",
       "      <th>전화번호</th>\n",
       "      <th>도로명주소</th>\n",
       "      <th>지번주소</th>\n",
       "    </tr>\n",
       "  </thead>\n",
       "  <tbody>\n",
       "    <tr>\n",
       "      <th>0</th>\n",
       "      <td>1</td>\n",
       "      <td>(주)동아서울시네마 (극장 5층 들어가는 입구 벽면)</td>\n",
       "      <td>02-745-4231</td>\n",
       "      <td>서울특별시 종로구 삼일대로 428, 낙원상가 5층 (낙원동)</td>\n",
       "      <td>서울특별시 종로구 낙원동 288번지 낙원상가</td>\n",
       "    </tr>\n",
       "    <tr>\n",
       "      <th>1</th>\n",
       "      <td>2</td>\n",
       "      <td>(주)동아서울시네마 (극장 4층 사무실 옆 5층 올라가는 우측 계단 벽)</td>\n",
       "      <td>02-745-4231</td>\n",
       "      <td>서울특별시 종로구 삼일대로 428, 낙원상가 4층 (낙원동)</td>\n",
       "      <td>서울특별시 종로구 낙원동 288번지 낙원상가</td>\n",
       "    </tr>\n",
       "    <tr>\n",
       "      <th>2</th>\n",
       "      <td>3</td>\n",
       "      <td>(주)이마트가양점 (주차장동 3층)</td>\n",
       "      <td>02-2101-1119</td>\n",
       "      <td>서울특별시 강서구 양천로 559, 가양이마트 (가양동)</td>\n",
       "      <td>서울특별시 강서구 가양동 449번지 19호 가양이마트</td>\n",
       "    </tr>\n",
       "    <tr>\n",
       "      <th>3</th>\n",
       "      <td>4</td>\n",
       "      <td>(주)트랜스코스모스코리아 (12층 엘리베이터 홀)</td>\n",
       "      <td>02-790-8971</td>\n",
       "      <td>서울특별시 관악구 관악로 217, 동진빌딩 (봉천동)</td>\n",
       "      <td>서울특별시 관악구 봉천동 32번지 8호 동진빌딩</td>\n",
       "    </tr>\n",
       "    <tr>\n",
       "      <th>4</th>\n",
       "      <td>5</td>\n",
       "      <td>(주)트랜스코스모스코리아 (동진빌딩6층 엘리베이터홀)</td>\n",
       "      <td>02-790-8971</td>\n",
       "      <td>서울특별시 관악구 관악로 217, 동진빌딩 (봉천동)</td>\n",
       "      <td>서울특별시 관악구 봉천동 32번지 8호 동진빌딩</td>\n",
       "    </tr>\n",
       "  </tbody>\n",
       "</table>\n",
       "</div>"
      ],
      "text/plain": [
       "   NO                                      설치장소          전화번호  \\\n",
       "0   1             (주)동아서울시네마 (극장 5층 들어가는 입구 벽면)   02-745-4231   \n",
       "1   2  (주)동아서울시네마 (극장 4층 사무실 옆 5층 올라가는 우측 계단 벽)   02-745-4231   \n",
       "2   3                       (주)이마트가양점 (주차장동 3층)  02-2101-1119   \n",
       "3   4               (주)트랜스코스모스코리아 (12층 엘리베이터 홀)   02-790-8971   \n",
       "4   5             (주)트랜스코스모스코리아 (동진빌딩6층 엘리베이터홀)   02-790-8971   \n",
       "\n",
       "                               도로명주소                           지번주소  \n",
       "0  서울특별시 종로구 삼일대로 428, 낙원상가 5층 (낙원동)       서울특별시 종로구 낙원동 288번지 낙원상가  \n",
       "1  서울특별시 종로구 삼일대로 428, 낙원상가 4층 (낙원동)       서울특별시 종로구 낙원동 288번지 낙원상가  \n",
       "2     서울특별시 강서구 양천로 559, 가양이마트 (가양동)  서울특별시 강서구 가양동 449번지 19호 가양이마트  \n",
       "3      서울특별시 관악구 관악로 217, 동진빌딩 (봉천동)     서울특별시 관악구 봉천동 32번지 8호 동진빌딩  \n",
       "4      서울특별시 관악구 관악로 217, 동진빌딩 (봉천동)     서울특별시 관악구 봉천동 32번지 8호 동진빌딩  "
      ]
     },
     "execution_count": 5,
     "metadata": {},
     "output_type": "execute_result"
    }
   ],
   "source": [
    "data = pd.read_csv('./data/AED_Seoul.csv', engine='python', encoding='CP949')\n",
    "data.head()"
   ]
  },
  {
   "cell_type": "markdown",
   "id": "dcf3bf30",
   "metadata": {},
   "source": [
    "## 1-3. 주소 > 좌표로 변환"
   ]
  },
  {
   "cell_type": "code",
   "execution_count": 6,
   "id": "c71e19a5",
   "metadata": {},
   "outputs": [],
   "source": [
    "api_url = 'https://naveropenapi.apigw.ntruss.com/map-geocode/v2/geocode?query='"
   ]
  },
  {
   "cell_type": "code",
   "execution_count": 9,
   "id": "085b9eb3",
   "metadata": {},
   "outputs": [
    {
     "name": "stdout",
     "output_type": "stream",
     "text": [
      "서울특별시 종로구 낙원동 288번지 낙원상가\n",
      "서울특별시 종로구 낙원동 288번지 낙원상가\n",
      "서울특별시 강서구 가양동 449번지 19호 가양이마트\n",
      "서울특별시 관악구 봉천동 32번지 8호 동진빌딩\n",
      "서울특별시 관악구 봉천동 32번지 8호 동진빌딩\n",
      "서울특별시 관악구 봉천동 853번지 1호 호산빌딩\n",
      "[['37.5722238', '126.9876399'], ['37.5722238', '126.9876399'], ['37.5595592', '126.8596072'], ['37.4680011', '126.9635703'], ['37.4680011', '126.9635703'], ['37.4805019', '126.9537464']]\n"
     ]
    }
   ],
   "source": [
    "# # 상위 5개 예시\n",
    "# geo_coordi = []     \n",
    "# for add in data.loc[:5, '지번주소']:\n",
    "#     print(add)\n",
    "#     add_urlenc = parse.quote(add)  \n",
    "#     url = api_url + add_urlenc\n",
    "#     request = Request(url)\n",
    "#     request.add_header('X-NCP-APIGW-API-KEY-ID', client_id)\n",
    "#     request.add_header('X-NCP-APIGW-API-KEY', client_pw)\n",
    "#     try:\n",
    "#         response = urlopen(request)\n",
    "#     except:\n",
    "#         print('HTTP Error')\n",
    "#         latitude = None\n",
    "#         longitude = None\n",
    "#     else:\n",
    "#         rescode = response.getcode()\n",
    "#         if rescode == 200:\n",
    "#             response_body = response.read().decode('utf-8')\n",
    "#             response_body = json.loads(response_body)   # json\n",
    "#             if response_body['addresses'] == [] :\n",
    "#                 print('Cannot convert {add} to coordinate.')\n",
    "#                 latitude = None\n",
    "#                 longitude = None\n",
    "#             else:\n",
    "#                 latitude = response_body['addresses'][0]['y']\n",
    "#                 longitude = response_body['addresses'][0]['x']\n",
    "#         else:\n",
    "#             print(f'Response error code : {rescode}')\n",
    "#             latitude = None\n",
    "#             longitude = None\n",
    "\n",
    "#     geo_coordi.append([latitude, longitude])\n",
    "\n",
    "# print(geo_coordi)"
   ]
  },
  {
   "cell_type": "code",
   "execution_count": null,
   "id": "5e9436b9",
   "metadata": {},
   "outputs": [],
   "source": [
    "geo_coordi = []     \n",
    "for add in data['지번주소']:\n",
    "    add_urlenc = parse.quote(add)  \n",
    "    url = api_url + add_urlenc\n",
    "    request = Request(url)\n",
    "    request.add_header('X-NCP-APIGW-API-KEY-ID', client_id)\n",
    "    request.add_header('X-NCP-APIGW-API-KEY', client_pw)\n",
    "    try:\n",
    "        response = urlopen(request)\n",
    "    except:\n",
    "        print('HTTP Error')\n",
    "        latitude = None\n",
    "        longitude = None\n",
    "    else:\n",
    "        rescode = response.getcode()\n",
    "        if rescode == 200:\n",
    "            response_body = response.read().decode('utf-8')\n",
    "            response_body = json.loads(response_body)   # json\n",
    "            if response_body['addresses'] == [] :\n",
    "                print('Cannot convert {add} to coordinate.')\n",
    "                latitude = None\n",
    "                longitude = None\n",
    "            else:\n",
    "                latitude = response_body['addresses'][0]['y']\n",
    "                longitude = response_body['addresses'][0]['x']\n",
    "        else:\n",
    "            print(f'Response error code : {rescode}')\n",
    "            latitude = None\n",
    "            longitude = None\n",
    "\n",
    "    geo_coordi.append([latitude, longitude])"
   ]
  },
  {
   "cell_type": "code",
   "execution_count": 11,
   "id": "c4d5a0ed",
   "metadata": {
    "scrolled": true
   },
   "outputs": [
    {
     "data": {
      "text/html": [
       "<div>\n",
       "<style scoped>\n",
       "    .dataframe tbody tr th:only-of-type {\n",
       "        vertical-align: middle;\n",
       "    }\n",
       "\n",
       "    .dataframe tbody tr th {\n",
       "        vertical-align: top;\n",
       "    }\n",
       "\n",
       "    .dataframe thead th {\n",
       "        text-align: right;\n",
       "    }\n",
       "</style>\n",
       "<table border=\"1\" class=\"dataframe\">\n",
       "  <thead>\n",
       "    <tr style=\"text-align: right;\">\n",
       "      <th></th>\n",
       "      <th>도로명</th>\n",
       "      <th>지번주소</th>\n",
       "      <th>위도</th>\n",
       "      <th>경도</th>\n",
       "    </tr>\n",
       "  </thead>\n",
       "  <tbody>\n",
       "    <tr>\n",
       "      <th>0</th>\n",
       "      <td>서울특별시 종로구 삼일대로 428, 낙원상가 5층 (낙원동)</td>\n",
       "      <td>서울특별시 종로구 낙원동 288번지 낙원상가</td>\n",
       "      <td>37.572224</td>\n",
       "      <td>126.987640</td>\n",
       "    </tr>\n",
       "    <tr>\n",
       "      <th>1</th>\n",
       "      <td>서울특별시 종로구 삼일대로 428, 낙원상가 4층 (낙원동)</td>\n",
       "      <td>서울특별시 종로구 낙원동 288번지 낙원상가</td>\n",
       "      <td>37.572224</td>\n",
       "      <td>126.987640</td>\n",
       "    </tr>\n",
       "    <tr>\n",
       "      <th>2</th>\n",
       "      <td>서울특별시 강서구 양천로 559, 가양이마트 (가양동)</td>\n",
       "      <td>서울특별시 강서구 가양동 449번지 19호 가양이마트</td>\n",
       "      <td>37.559559</td>\n",
       "      <td>126.859607</td>\n",
       "    </tr>\n",
       "    <tr>\n",
       "      <th>3</th>\n",
       "      <td>서울특별시 관악구 관악로 217, 동진빌딩 (봉천동)</td>\n",
       "      <td>서울특별시 관악구 봉천동 32번지 8호 동진빌딩</td>\n",
       "      <td>37.468001</td>\n",
       "      <td>126.963570</td>\n",
       "    </tr>\n",
       "    <tr>\n",
       "      <th>4</th>\n",
       "      <td>서울특별시 관악구 관악로 217, 동진빌딩 (봉천동)</td>\n",
       "      <td>서울특별시 관악구 봉천동 32번지 8호 동진빌딩</td>\n",
       "      <td>37.468001</td>\n",
       "      <td>126.963570</td>\n",
       "    </tr>\n",
       "  </tbody>\n",
       "</table>\n",
       "</div>"
      ],
      "text/plain": [
       "                                 도로명                           지번주소  \\\n",
       "0  서울특별시 종로구 삼일대로 428, 낙원상가 5층 (낙원동)       서울특별시 종로구 낙원동 288번지 낙원상가   \n",
       "1  서울특별시 종로구 삼일대로 428, 낙원상가 4층 (낙원동)       서울특별시 종로구 낙원동 288번지 낙원상가   \n",
       "2     서울특별시 강서구 양천로 559, 가양이마트 (가양동)  서울특별시 강서구 가양동 449번지 19호 가양이마트   \n",
       "3      서울특별시 관악구 관악로 217, 동진빌딩 (봉천동)     서울특별시 관악구 봉천동 32번지 8호 동진빌딩   \n",
       "4      서울특별시 관악구 관악로 217, 동진빌딩 (봉천동)     서울특별시 관악구 봉천동 32번지 8호 동진빌딩   \n",
       "\n",
       "          위도          경도  \n",
       "0  37.572224  126.987640  \n",
       "1  37.572224  126.987640  \n",
       "2  37.559559  126.859607  \n",
       "3  37.468001  126.963570  \n",
       "4  37.468001  126.963570  "
      ]
     },
     "execution_count": 11,
     "metadata": {},
     "output_type": "execute_result"
    }
   ],
   "source": [
    "# # 상위 5개 예시\n",
    "# np_geo_coordi = np.array(geo_coordi, dtype=float)\n",
    "# pd_geo_coordi = pd.DataFrame({\"도로명\": data.loc[:5, '도로명주소'].values,\n",
    "#                               \"지번주소\": data.loc[:5, '지번주소'].values,\n",
    "#                               \"위도\": np_geo_coordi[:, 0],\n",
    "#                               \"경도\": np_geo_coordi[:, 1]})\n",
    "# pd_geo_coordi.head()"
   ]
  },
  {
   "cell_type": "code",
   "execution_count": null,
   "id": "540427a6",
   "metadata": {},
   "outputs": [],
   "source": [
    "np_geo_coordi = np.array(geo_coordi, dtype=float)\n",
    "pd_geo_coordi = pd.DataFrame({\"도로명\": data['도로명주소'].values,\n",
    "                              \"지번주소\": data['지번주소'].values,\n",
    "                              \"위도\": np_geo_coordi[:, 0],\n",
    "                              \"경도\": np_geo_coordi[:, 1]})\n",
    "pd_geo_coordi.head()"
   ]
  },
  {
   "cell_type": "markdown",
   "id": "ebf2d719",
   "metadata": {},
   "source": [
    "이후 `AED_Seoul_coord.csv` 파일로 저장"
   ]
  },
  {
   "cell_type": "code",
   "execution_count": null,
   "id": "28116ea5",
   "metadata": {},
   "outputs": [],
   "source": [
    "pd_geo_coordi.to_csv('AED_Seoul_coord.csv', sep=',', na_rep='NaN', encoding='CP949', index=None)"
   ]
  },
  {
   "cell_type": "markdown",
   "id": "2f1c94a0",
   "metadata": {},
   "source": [
    "이후 좌표를 불러오지 못한 주소들은 구글 지도에 직접 찍어가며 결측값을 채움"
   ]
  },
  {
   "cell_type": "markdown",
   "id": "5e8f67f6",
   "metadata": {},
   "source": [
    "## 1-4. 소방서 및 119 안전센터 주소 변환\n",
    "- 서울시 소방서 주소 데이터 : [공공데이터포털 - 서울특별시 소방서 현황](https://www.data.go.kr/data/15047342/fileData.do)\n",
    "- 서울시 119 안전센터 좌표 데이터 : [서울 열린데이터 광장 - 서울시 안전센터관할 위치정보](http://data.seoul.go.kr/dataList/OA-12740/S/1/datasetView.do)\n",
    "- AED와 같은 방법으로 소방서 주소를 좌표로 변환한 후 `FS_Seoul_coord.csv` 파일로 저장\n",
    "- 앞서 얻은 csv 파일과 119 안전센터 좌표 데이터를 엑셀을 이용하여 직접 합침"
   ]
  },
  {
   "cell_type": "code",
   "execution_count": 13,
   "id": "fdb63fd9",
   "metadata": {},
   "outputs": [
    {
     "data": {
      "text/html": [
       "<div>\n",
       "<style scoped>\n",
       "    .dataframe tbody tr th:only-of-type {\n",
       "        vertical-align: middle;\n",
       "    }\n",
       "\n",
       "    .dataframe tbody tr th {\n",
       "        vertical-align: top;\n",
       "    }\n",
       "\n",
       "    .dataframe thead th {\n",
       "        text-align: right;\n",
       "    }\n",
       "</style>\n",
       "<table border=\"1\" class=\"dataframe\">\n",
       "  <thead>\n",
       "    <tr style=\"text-align: right;\">\n",
       "      <th></th>\n",
       "      <th>소방서명</th>\n",
       "      <th>위치</th>\n",
       "      <th>위도</th>\n",
       "      <th>경도</th>\n",
       "    </tr>\n",
       "  </thead>\n",
       "  <tbody>\n",
       "    <tr>\n",
       "      <th>0</th>\n",
       "      <td>종로소방서</td>\n",
       "      <td>서울특별시 종로구 종로1길 28(수송동)</td>\n",
       "      <td>37.572856</td>\n",
       "      <td>126.978913</td>\n",
       "    </tr>\n",
       "    <tr>\n",
       "      <th>1</th>\n",
       "      <td>중부소방서</td>\n",
       "      <td>서울특별시 중구 퇴계로 394(무학동)</td>\n",
       "      <td>37.564867</td>\n",
       "      <td>127.015394</td>\n",
       "    </tr>\n",
       "    <tr>\n",
       "      <th>2</th>\n",
       "      <td>광진소방서</td>\n",
       "      <td>서울특별시 광진구 광나루로 480(구의동)</td>\n",
       "      <td>37.544965</td>\n",
       "      <td>127.082812</td>\n",
       "    </tr>\n",
       "    <tr>\n",
       "      <th>3</th>\n",
       "      <td>용산소방서</td>\n",
       "      <td>서울특별시 용산구 한강대로 167(한강로2가)</td>\n",
       "      <td>37.534122</td>\n",
       "      <td>126.971496</td>\n",
       "    </tr>\n",
       "    <tr>\n",
       "      <th>4</th>\n",
       "      <td>동대문소방서</td>\n",
       "      <td>서울특별시 동대문구 장한로 34(장안동)</td>\n",
       "      <td>37.564004</td>\n",
       "      <td>127.066625</td>\n",
       "    </tr>\n",
       "  </tbody>\n",
       "</table>\n",
       "</div>"
      ],
      "text/plain": [
       "     소방서명                         위치         위도          경도\n",
       "0   종로소방서     서울특별시 종로구 종로1길 28(수송동)  37.572856  126.978913\n",
       "1   중부소방서      서울특별시 중구 퇴계로 394(무학동)  37.564867  127.015394\n",
       "2   광진소방서    서울특별시 광진구 광나루로 480(구의동)  37.544965  127.082812\n",
       "3   용산소방서  서울특별시 용산구 한강대로 167(한강로2가)  37.534122  126.971496\n",
       "4  동대문소방서     서울특별시 동대문구 장한로 34(장안동)  37.564004  127.066625"
      ]
     },
     "execution_count": 13,
     "metadata": {},
     "output_type": "execute_result"
    }
   ],
   "source": [
    "fs_df = pd.read_csv('./data/FS_Seoul_coord.csv', encoding='cp949')\n",
    "fs_df.head()"
   ]
  },
  {
   "cell_type": "code",
   "execution_count": 14,
   "id": "b0e0162b",
   "metadata": {},
   "outputs": [
    {
     "data": {
      "text/html": [
       "<div>\n",
       "<style scoped>\n",
       "    .dataframe tbody tr th:only-of-type {\n",
       "        vertical-align: middle;\n",
       "    }\n",
       "\n",
       "    .dataframe tbody tr th {\n",
       "        vertical-align: top;\n",
       "    }\n",
       "\n",
       "    .dataframe thead th {\n",
       "        text-align: right;\n",
       "    }\n",
       "</style>\n",
       "<table border=\"1\" class=\"dataframe\">\n",
       "  <thead>\n",
       "    <tr style=\"text-align: right;\">\n",
       "      <th></th>\n",
       "      <th>소방서명</th>\n",
       "      <th>위치</th>\n",
       "      <th>위도</th>\n",
       "      <th>경도</th>\n",
       "    </tr>\n",
       "  </thead>\n",
       "  <tbody>\n",
       "    <tr>\n",
       "      <th>137</th>\n",
       "      <td>무학119안전센터</td>\n",
       "      <td>서울특별시 중구 퇴계로 394 (무학동)</td>\n",
       "      <td>37.564867</td>\n",
       "      <td>127.015394</td>\n",
       "    </tr>\n",
       "    <tr>\n",
       "      <th>138</th>\n",
       "      <td>면목119안전센터</td>\n",
       "      <td>서울특별시 중랑구 동일로 475 (면목동)</td>\n",
       "      <td>37.572857</td>\n",
       "      <td>127.079902</td>\n",
       "    </tr>\n",
       "    <tr>\n",
       "      <th>139</th>\n",
       "      <td>중화119안전센터</td>\n",
       "      <td>서울특별시 중랑구 동일로 783 (중화동)</td>\n",
       "      <td>37.600459</td>\n",
       "      <td>127.079294</td>\n",
       "    </tr>\n",
       "    <tr>\n",
       "      <th>140</th>\n",
       "      <td>신내119안전센터</td>\n",
       "      <td>서울특별시 중랑구 신내로 183 (신내동)</td>\n",
       "      <td>37.615321</td>\n",
       "      <td>127.094805</td>\n",
       "    </tr>\n",
       "    <tr>\n",
       "      <th>141</th>\n",
       "      <td>망우119안전센터</td>\n",
       "      <td>서울특별시 중랑구 용마산로 524 (망우동)</td>\n",
       "      <td>37.597726</td>\n",
       "      <td>127.100572</td>\n",
       "    </tr>\n",
       "  </tbody>\n",
       "</table>\n",
       "</div>"
      ],
      "text/plain": [
       "          소방서명                        위치         위도          경도\n",
       "137  무학119안전센터    서울특별시 중구 퇴계로 394 (무학동)  37.564867  127.015394\n",
       "138  면목119안전센터   서울특별시 중랑구 동일로 475 (면목동)  37.572857  127.079902\n",
       "139  중화119안전센터   서울특별시 중랑구 동일로 783 (중화동)  37.600459  127.079294\n",
       "140  신내119안전센터   서울특별시 중랑구 신내로 183 (신내동)  37.615321  127.094805\n",
       "141  망우119안전센터  서울특별시 중랑구 용마산로 524 (망우동)  37.597726  127.100572"
      ]
     },
     "execution_count": 14,
     "metadata": {},
     "output_type": "execute_result"
    }
   ],
   "source": [
    "fs_df.tail()"
   ]
  },
  {
   "cell_type": "code",
   "execution_count": null,
   "id": "3e5499cc",
   "metadata": {},
   "outputs": [],
   "source": []
  }
 ],
 "metadata": {
  "kernelspec": {
   "display_name": "Python Multi",
   "language": "python",
   "name": "multi"
  },
  "language_info": {
   "codemirror_mode": {
    "name": "ipython",
    "version": 3
   },
   "file_extension": ".py",
   "mimetype": "text/x-python",
   "name": "python",
   "nbconvert_exporter": "python",
   "pygments_lexer": "ipython3",
   "version": "3.7.6"
  },
  "toc": {
   "base_numbering": 1,
   "nav_menu": {},
   "number_sections": false,
   "sideBar": true,
   "skip_h1_title": false,
   "title_cell": "Table of Contents",
   "title_sidebar": "Contents",
   "toc_cell": false,
   "toc_position": {},
   "toc_section_display": true,
   "toc_window_display": false
  }
 },
 "nbformat": 4,
 "nbformat_minor": 5
}
